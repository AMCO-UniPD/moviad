{
 "cells": [
  {
   "cell_type": "code",
   "id": "initial_id",
   "metadata": {
    "collapsed": true,
    "ExecuteTime": {
     "end_time": "2024-11-29T14:26:22.783070Z",
     "start_time": "2024-11-29T14:26:22.637823Z"
    }
   },
   "source": [
    "from moviad.entrypoints.cfa import train_cfa\n",
    "%load_ext autoreload\n",
    "%autoreload 2"
   ],
   "outputs": [
    {
     "name": "stdout",
     "output_type": "stream",
     "text": [
      "The autoreload extension is already loaded. To reload it, use:\n",
      "  %reload_ext autoreload\n"
     ]
    }
   ],
   "execution_count": 16
  },
  {
   "metadata": {
    "ExecuteTime": {
     "end_time": "2024-11-29T14:26:22.930130Z",
     "start_time": "2024-11-29T14:26:22.789109Z"
    }
   },
   "cell_type": "code",
   "source": [
    "import torch\n",
    "from torchvision.models import MobileNet_V2_Weights\n",
    "from torchvision.transforms import transforms\n",
    "\n",
    "from main_scripts.main_cfa import main_train_cfa, main_test_cfa\n",
    "from moviad.datasets.mvtec.mvtec_dataset import MVTecDataset\n",
    "from moviad.datasets.realiad.realiad_dataset import RealIadDataset\n",
    "from moviad.datasets.realiad.realiad_dataset_configurations import RealIadClass\n",
    "from moviad.datasets.visa.visa_dataset import VisaDataset\n",
    "from moviad.datasets.visa.visa_dataset_configurations import VisaDatasetCategory\n",
    "from moviad.utilities.configurations import TaskType, Split\n",
    "from tests.datasets.realiaddataset_tests import IMAGE_SIZE, REAL_IAD_DATASET_PATH, AUDIO_JACK_DATASET_JSON\n",
    "from tests.datasets.visadataset_tests import VISA_DATASET_PATH, VISA_DATASET_CSV_PATH\n",
    "from tests.main.common import get_training_args, MVTECH_DATASET_PATH, REALIAD_DATASET_PATH"
   ],
   "id": "c9e8de5f510c5c4",
   "outputs": [],
   "execution_count": 17
  },
  {
   "metadata": {
    "ExecuteTime": {
     "end_time": "2024-11-29T14:26:23.081673Z",
     "start_time": "2024-11-29T14:26:22.935553Z"
    }
   },
   "cell_type": "code",
   "source": [
    "MVTECH_DATASET_PATH = 'E:\\\\VisualAnomalyDetection\\\\datasets\\\\mvtec'\n",
    "REALIAD_DATASET_PATH = 'E:\\\\VisualAnomalyDetection\\\\datasets\\\\Real-IAD\\\\realiad_256'"
   ],
   "id": "70eee0ba9869730f",
   "outputs": [],
   "execution_count": 18
  },
  {
   "metadata": {},
   "cell_type": "markdown",
   "source": "## CFA Method",
   "id": "cc21e8387420d305"
  },
  {
   "metadata": {},
   "cell_type": "markdown",
   "source": "### Train CFA with MVTEC Dataset",
   "id": "7d3a8c9bda2a8349"
  },
  {
   "metadata": {
    "ExecuteTime": {
     "end_time": "2024-11-29T14:26:23.230287Z",
     "start_time": "2024-11-29T14:26:23.085796Z"
    }
   },
   "cell_type": "code",
   "source": [
    "from torchvision.transforms import InterpolationMode\n",
    "\n",
    "args = get_training_args()\n",
    "args.dataset_path = MVTECH_DATASET_PATH\n",
    "args.category = 'pill'\n",
    "args.backbone = 'mobilenet_v2'\n",
    "args.ad_layers = [\"features.4\", \"features.7\", \"features.10\"]\n",
    "args.save_path = \"./patch.pt\"\n",
    "args.device = torch.device('cuda' if torch.cuda.is_available() else 'cpu')\n",
    "args.epochs = 100\n",
    "args.model_checkpoint_path = \"./patch.pt\"\n",
    "args.visual_test_path = \"./visual_test\"\n",
    "\n",
    "transform = transforms.Compose([\n",
    "    transforms.Resize(IMAGE_SIZE),\n",
    "    transforms.PILToTensor(),\n",
    "    transforms.Resize(\n",
    "        IMAGE_SIZE,\n",
    "        antialias=True,\n",
    "        interpolation=InterpolationMode.NEAREST,\n",
    "    ),\n",
    "    transforms.ConvertImageDtype(torch.float32)\n",
    "])"
   ],
   "id": "c47d7aae39394ac1",
   "outputs": [],
   "execution_count": 19
  },
  {
   "metadata": {
    "ExecuteTime": {
     "end_time": "2024-11-29T14:34:58.249308Z",
     "start_time": "2024-11-29T14:34:50.875057Z"
    }
   },
   "cell_type": "code",
   "source": [
    "train_dataset = MVTecDataset(\n",
    "    TaskType.SEGMENTATION,\n",
    "    args.dataset_path,\n",
    "    args.category,\n",
    "    Split.TRAIN,\n",
    "    img_size=(256, 256),\n",
    ")\n",
    "\n",
    "test_dataset = MVTecDataset(\n",
    "    TaskType.SEGMENTATION,\n",
    "    args.dataset_path,\n",
    "    args.category,\n",
    "    Split.TEST,\n",
    "    img_size=(256, 256),\n",
    ")\n",
    "\n",
    "train_dataset.load_dataset()\n",
    "test_dataset.load_dataset()\n",
    "\n",
    "train_dataset.contaminate(test_dataset, 0.1)"
   ],
   "id": "ff98968b02ba8479",
   "outputs": [
    {
     "name": "stdout",
     "output_type": "stream",
     "text": [
      "Added E:\\VisualAnomalyDetection\\datasets\\mvtec\\pill/test/color/008.png to the dataset\n",
      "Added E:\\VisualAnomalyDetection\\datasets\\mvtec\\pill/test/contamination/003.png to the dataset\n",
      "Added E:\\VisualAnomalyDetection\\datasets\\mvtec\\pill/test/crack/020.png to the dataset\n",
      "Added E:\\VisualAnomalyDetection\\datasets\\mvtec\\pill/test/color/021.png to the dataset\n",
      "Added E:\\VisualAnomalyDetection\\datasets\\mvtec\\pill/test/combined/006.png to the dataset\n",
      "Added E:\\VisualAnomalyDetection\\datasets\\mvtec\\pill/test/scratch/002.png to the dataset\n",
      "Added E:\\VisualAnomalyDetection\\datasets\\mvtec\\pill/test/faulty_imprint/007.png to the dataset\n",
      "Added E:\\VisualAnomalyDetection\\datasets\\mvtec\\pill/test/faulty_imprint/001.png to the dataset\n",
      "Added E:\\VisualAnomalyDetection\\datasets\\mvtec\\pill/test/contamination/013.png to the dataset\n",
      "Added E:\\VisualAnomalyDetection\\datasets\\mvtec\\pill/test/faulty_imprint/006.png to the dataset\n",
      "Added E:\\VisualAnomalyDetection\\datasets\\mvtec\\pill/test/crack/000.png to the dataset\n",
      "Added E:\\VisualAnomalyDetection\\datasets\\mvtec\\pill/test/color/019.png to the dataset\n",
      "Added E:\\VisualAnomalyDetection\\datasets\\mvtec\\pill/test/faulty_imprint/018.png to the dataset\n",
      "Added E:\\VisualAnomalyDetection\\datasets\\mvtec\\pill/test/contamination/004.png to the dataset\n",
      "Added E:\\VisualAnomalyDetection\\datasets\\mvtec\\pill/test/contamination/015.png to the dataset\n",
      "Added E:\\VisualAnomalyDetection\\datasets\\mvtec\\pill/test/pill_type/006.png to the dataset\n",
      "Added E:\\VisualAnomalyDetection\\datasets\\mvtec\\pill/test/combined/016.png to the dataset\n",
      "Added E:\\VisualAnomalyDetection\\datasets\\mvtec\\pill/test/combined/008.png to the dataset\n",
      "Added E:\\VisualAnomalyDetection\\datasets\\mvtec\\pill/test/crack/025.png to the dataset\n",
      "Added E:\\VisualAnomalyDetection\\datasets\\mvtec\\pill/test/contamination/005.png to the dataset\n",
      "Added E:\\VisualAnomalyDetection\\datasets\\mvtec\\pill/test/crack/011.png to the dataset\n",
      "Added E:\\VisualAnomalyDetection\\datasets\\mvtec\\pill/test/faulty_imprint/014.png to the dataset\n",
      "Added E:\\VisualAnomalyDetection\\datasets\\mvtec\\pill/test/color/003.png to the dataset\n",
      "Added E:\\VisualAnomalyDetection\\datasets\\mvtec\\pill/test/crack/010.png to the dataset\n",
      "Added E:\\VisualAnomalyDetection\\datasets\\mvtec\\pill/test/contamination/011.png to the dataset\n",
      "Added E:\\VisualAnomalyDetection\\datasets\\mvtec\\pill/test/crack/005.png to the dataset\n"
     ]
    },
    {
     "data": {
      "text/plain": [
       "26"
      ]
     },
     "execution_count": 29,
     "metadata": {},
     "output_type": "execute_result"
    }
   ],
   "execution_count": 29
  },
  {
   "metadata": {
    "jupyter": {
     "is_executing": true
    },
    "ExecuteTime": {
     "start_time": "2024-11-29T14:35:29.811309Z"
    }
   },
   "cell_type": "code",
   "source": [
    "train_cfa(train_dataset, test_dataset, args.category, args.backbone,\n",
    "          args.ad_layers,\n",
    "          args.epochs,\n",
    "          args.save_path, args.device)"
   ],
   "id": "c4a817d61780e955",
   "outputs": [
    {
     "name": "stdout",
     "output_type": "stream",
     "text": [
      "Training CFA for category: pill \n",
      "\n",
      "Length train dataset: 293\n",
      "Length test dataset: 141\n"
     ]
    },
    {
     "name": "stderr",
     "output_type": "stream",
     "text": [
      "100%|██████████| 146/146 [00:00<00:00, 211.30it/s]\n"
     ]
    },
    {
     "name": "stdout",
     "output_type": "stream",
     "text": [
      "EPOCH: 0\n"
     ]
    },
    {
     "name": "stderr",
     "output_type": "stream",
     "text": [
      "100%|██████████| 146/146 [00:00<00:00, 163.38it/s]\n",
      "Eval: 100%|██████████| 70/70 [00:00<00:00, 117.82it/s]\n"
     ]
    },
    {
     "name": "stdout",
     "output_type": "stream",
     "text": [
      "End training performances:\n",
      "\n",
      "                img_roc: 0.8869565217391304 \n",
      "\n",
      "                pxl_roc: 0.9887376989727923 \n",
      "\n",
      "                f1_img: 0.9276595744680851 \n",
      "\n",
      "                f1_pxl: 0.7296959522766024 \n",
      "\n",
      "                img_pr: 0.9746113858983714 \n",
      "\n",
      "                pxl_pr: 0.8032031676597371 \n",
      "\n",
      "                pxl_pro: 0.9582140633781024 \n",
      "\n",
      "            \n",
      "EPOCH: 1\n"
     ]
    },
    {
     "name": "stderr",
     "output_type": "stream",
     "text": [
      "100%|██████████| 146/146 [00:01<00:00, 145.29it/s]\n",
      "Eval: 100%|██████████| 70/70 [00:00<00:00, 121.01it/s]\n"
     ]
    },
    {
     "name": "stdout",
     "output_type": "stream",
     "text": [
      "End training performances:\n",
      "\n",
      "                img_roc: 0.8906882591093117 \n",
      "\n",
      "                pxl_roc: 0.985501710863473 \n",
      "\n",
      "                f1_img: 0.9191489361702128 \n",
      "\n",
      "                f1_pxl: 0.7039668461355885 \n",
      "\n",
      "                img_pr: 0.974315492495207 \n",
      "\n",
      "                pxl_pr: 0.7484899570164946 \n",
      "\n",
      "                pxl_pro: 0.9470034524270232 \n",
      "\n",
      "            \n",
      "EPOCH: 2\n"
     ]
    },
    {
     "name": "stderr",
     "output_type": "stream",
     "text": [
      "100%|██████████| 146/146 [00:01<00:00, 143.10it/s]\n",
      "Eval: 100%|██████████| 70/70 [00:00<00:00, 116.35it/s]\n"
     ]
    },
    {
     "name": "stdout",
     "output_type": "stream",
     "text": [
      "End training performances:\n",
      "\n",
      "                img_roc: 0.8890434782608697 \n",
      "\n",
      "                pxl_roc: 0.9784421657094419 \n",
      "\n",
      "                f1_img: 0.9262295081967213 \n",
      "\n",
      "                f1_pxl: 0.6755777227738147 \n",
      "\n",
      "                img_pr: 0.9750220655808463 \n",
      "\n",
      "                pxl_pr: 0.6739758139280225 \n",
      "\n",
      "                pxl_pro: 0.93042103153824 \n",
      "\n",
      "            \n",
      "EPOCH: 3\n"
     ]
    },
    {
     "name": "stderr",
     "output_type": "stream",
     "text": [
      "100%|██████████| 146/146 [00:01<00:00, 142.61it/s]\n",
      "Eval: 100%|██████████| 70/70 [00:00<00:00, 115.58it/s]\n"
     ]
    },
    {
     "name": "stdout",
     "output_type": "stream",
     "text": [
      "End training performances:\n",
      "\n",
      "                img_roc: 0.8863022941970311 \n",
      "\n",
      "                pxl_roc: 0.9663698571663293 \n",
      "\n",
      "                f1_img: 0.9152542372881356 \n",
      "\n",
      "                f1_pxl: 0.6442299948793455 \n",
      "\n",
      "                img_pr: 0.9740646395166633 \n",
      "\n",
      "                pxl_pr: 0.6020739098436598 \n",
      "\n",
      "                pxl_pro: 0.9188738755839582 \n",
      "\n",
      "            \n",
      "EPOCH: 4\n"
     ]
    },
    {
     "name": "stderr",
     "output_type": "stream",
     "text": [
      "100%|██████████| 146/146 [00:00<00:00, 147.89it/s]\n",
      "Eval: 100%|██████████| 70/70 [00:00<00:00, 113.33it/s]\n"
     ]
    },
    {
     "name": "stdout",
     "output_type": "stream",
     "text": [
      "End training performances:\n",
      "\n",
      "                img_roc: 0.8918260869565219 \n",
      "\n",
      "                pxl_roc: 0.9453888779773139 \n",
      "\n",
      "                f1_img: 0.9128630705394191 \n",
      "\n",
      "                f1_pxl: 0.5890050956911862 \n",
      "\n",
      "                img_pr: 0.97676512469587 \n",
      "\n",
      "                pxl_pr: 0.5283209665546489 \n",
      "\n",
      "                pxl_pro: 0.9071182633511545 \n",
      "\n",
      "            \n",
      "EPOCH: 5\n"
     ]
    },
    {
     "name": "stderr",
     "output_type": "stream",
     "text": [
      "100%|██████████| 146/146 [00:01<00:00, 137.81it/s]\n",
      "Eval: 100%|██████████| 70/70 [00:00<00:00, 117.93it/s]\n"
     ]
    },
    {
     "name": "stdout",
     "output_type": "stream",
     "text": [
      "End training performances:\n",
      "\n",
      "                img_roc: 0.9068825910931174 \n",
      "\n",
      "                pxl_roc: 0.9246606836350061 \n",
      "\n",
      "                f1_img: 0.9264069264069265 \n",
      "\n",
      "                f1_pxl: 0.5859055893244995 \n",
      "\n",
      "                img_pr: 0.9781488299592891 \n",
      "\n",
      "                pxl_pr: 0.516754872219041 \n",
      "\n",
      "                pxl_pro: 0.9011524822926446 \n",
      "\n",
      "            \n",
      "EPOCH: 6\n"
     ]
    },
    {
     "name": "stderr",
     "output_type": "stream",
     "text": [
      "100%|██████████| 146/146 [00:00<00:00, 148.07it/s]\n",
      "Eval: 100%|██████████| 70/70 [00:00<00:00, 115.61it/s]\n"
     ]
    },
    {
     "name": "stdout",
     "output_type": "stream",
     "text": [
      "End training performances:\n",
      "\n",
      "                img_roc: 0.9008097165991903 \n",
      "\n",
      "                pxl_roc: 0.8930817164514911 \n",
      "\n",
      "                f1_img: 0.927038626609442 \n",
      "\n",
      "                f1_pxl: 0.5386217058383052 \n",
      "\n",
      "                img_pr: 0.9757800248937021 \n",
      "\n",
      "                pxl_pr: 0.4597791405068971 \n",
      "\n",
      "                pxl_pro: 0.8924358619654854 \n",
      "\n",
      "            \n",
      "EPOCH: 7\n"
     ]
    },
    {
     "name": "stderr",
     "output_type": "stream",
     "text": [
      "100%|██████████| 146/146 [00:01<00:00, 142.58it/s]\n",
      "Eval: 100%|██████████| 70/70 [00:00<00:00, 111.14it/s]\n"
     ]
    },
    {
     "name": "stdout",
     "output_type": "stream",
     "text": [
      "End training performances:\n",
      "\n",
      "                img_roc: 0.9068825910931174 \n",
      "\n",
      "                pxl_roc: 0.8706378503644197 \n",
      "\n",
      "                f1_img: 0.9251101321585904 \n",
      "\n",
      "                f1_pxl: 0.5076047154591281 \n",
      "\n",
      "                img_pr: 0.9767083545905955 \n",
      "\n",
      "                pxl_pr: 0.4230502928181198 \n",
      "\n",
      "                pxl_pro: 0.883673397900607 \n",
      "\n",
      "            \n",
      "EPOCH: 8\n"
     ]
    },
    {
     "name": "stderr",
     "output_type": "stream",
     "text": [
      "100%|██████████| 146/146 [00:00<00:00, 151.17it/s]\n",
      "Eval: 100%|██████████| 70/70 [00:00<00:00, 115.58it/s]\n"
     ]
    },
    {
     "name": "stdout",
     "output_type": "stream",
     "text": [
      "End training performances:\n",
      "\n",
      "                img_roc: 0.9092442645074224 \n",
      "\n",
      "                pxl_roc: 0.8748006022100863 \n",
      "\n",
      "                f1_img: 0.9333333333333333 \n",
      "\n",
      "                f1_pxl: 0.5128960520337645 \n",
      "\n",
      "                img_pr: 0.9771589060329557 \n",
      "\n",
      "                pxl_pr: 0.4293102283895832 \n",
      "\n",
      "                pxl_pro: 0.8956407802243456 \n",
      "\n",
      "            \n",
      "EPOCH: 9\n"
     ]
    },
    {
     "name": "stderr",
     "output_type": "stream",
     "text": [
      "100%|██████████| 146/146 [00:01<00:00, 140.23it/s]\n",
      "Eval: 100%|██████████| 70/70 [00:00<00:00, 117.47it/s]\n"
     ]
    },
    {
     "name": "stdout",
     "output_type": "stream",
     "text": [
      "End training performances:\n",
      "\n",
      "                img_roc: 0.924089068825911 \n",
      "\n",
      "                pxl_roc: 0.8367186369277974 \n",
      "\n",
      "                f1_img: 0.944206008583691 \n",
      "\n",
      "                f1_pxl: 0.47037410532011714 \n",
      "\n",
      "                img_pr: 0.9801294879168874 \n",
      "\n",
      "                pxl_pr: 0.3757354823482211 \n",
      "\n",
      "                pxl_pro: 0.8860429297079817 \n",
      "\n",
      "            \n",
      "EPOCH: 10\n"
     ]
    },
    {
     "name": "stderr",
     "output_type": "stream",
     "text": [
      "100%|██████████| 146/146 [00:00<00:00, 148.07it/s]\n",
      "Eval: 100%|██████████| 70/70 [00:00<00:00, 119.97it/s]\n"
     ]
    },
    {
     "name": "stdout",
     "output_type": "stream",
     "text": [
      "End training performances:\n",
      "\n",
      "                img_roc: 0.9240890688259109 \n",
      "\n",
      "                pxl_roc: 0.8413341962629951 \n",
      "\n",
      "                f1_img: 0.939655172413793 \n",
      "\n",
      "                f1_pxl: 0.47360563778474224 \n",
      "\n",
      "                img_pr: 0.9802313935703657 \n",
      "\n",
      "                pxl_pr: 0.38248529599335 \n",
      "\n",
      "                pxl_pro: 0.882377230966751 \n",
      "\n",
      "            \n",
      "EPOCH: 11\n"
     ]
    },
    {
     "name": "stderr",
     "output_type": "stream",
     "text": [
      "100%|██████████| 146/146 [00:01<00:00, 137.97it/s]\n",
      "Eval: 100%|██████████| 70/70 [00:00<00:00, 115.59it/s]\n"
     ]
    },
    {
     "name": "stdout",
     "output_type": "stream",
     "text": [
      "End training performances:\n",
      "\n",
      "                img_roc: 0.9170040485829958 \n",
      "\n",
      "                pxl_roc: 0.8355502855386117 \n",
      "\n",
      "                f1_img: 0.9361702127659574 \n",
      "\n",
      "                f1_pxl: 0.47466423512796435 \n",
      "\n",
      "                img_pr: 0.9778743145978368 \n",
      "\n",
      "                pxl_pr: 0.38269780724406005 \n",
      "\n",
      "                pxl_pro: 0.8827956184545752 \n",
      "\n",
      "            \n",
      "EPOCH: 12\n"
     ]
    },
    {
     "name": "stderr",
     "output_type": "stream",
     "text": [
      "100%|██████████| 146/146 [00:01<00:00, 146.00it/s]\n",
      "Eval: 100%|██████████| 70/70 [00:00<00:00, 117.62it/s]\n"
     ]
    },
    {
     "name": "stdout",
     "output_type": "stream",
     "text": [
      "End training performances:\n",
      "\n",
      "                img_roc: 0.9055330634278003 \n",
      "\n",
      "                pxl_roc: 0.8111041674017576 \n",
      "\n",
      "                f1_img: 0.9264069264069265 \n",
      "\n",
      "                f1_pxl: 0.448488194326482 \n",
      "\n",
      "                img_pr: 0.9753194702019594 \n",
      "\n",
      "                pxl_pr: 0.35230922416270477 \n",
      "\n",
      "                pxl_pro: 0.8775192720454905 \n",
      "\n",
      "            \n",
      "EPOCH: 13\n"
     ]
    },
    {
     "name": "stderr",
     "output_type": "stream",
     "text": [
      "100%|██████████| 146/146 [00:00<00:00, 150.92it/s]\n",
      "Eval: 100%|██████████| 70/70 [00:00<00:00, 117.15it/s]\n"
     ]
    },
    {
     "name": "stdout",
     "output_type": "stream",
     "text": [
      "End training performances:\n",
      "\n",
      "                img_roc: 0.9095652173913044 \n",
      "\n",
      "                pxl_roc: 0.8071238253481492 \n",
      "\n",
      "                f1_img: 0.9249999999999999 \n",
      "\n",
      "                f1_pxl: 0.4513171154500962 \n",
      "\n",
      "                img_pr: 0.9775833829908189 \n",
      "\n",
      "                pxl_pr: 0.35405120159174003 \n",
      "\n",
      "                pxl_pro: 0.8928524535517741 \n",
      "\n",
      "            \n",
      "EPOCH: 14\n"
     ]
    },
    {
     "name": "stderr",
     "output_type": "stream",
     "text": [
      "100%|██████████| 146/146 [00:00<00:00, 151.91it/s]\n",
      "Eval: 100%|██████████| 70/70 [00:00<00:00, 118.01it/s]\n"
     ]
    },
    {
     "name": "stdout",
     "output_type": "stream",
     "text": [
      "End training performances:\n",
      "\n",
      "                img_roc: 0.9261133603238867 \n",
      "\n",
      "                pxl_roc: 0.7933026820461835 \n",
      "\n",
      "                f1_img: 0.9491525423728813 \n",
      "\n",
      "                f1_pxl: 0.4311778747191602 \n",
      "\n",
      "                img_pr: 0.9795962084608061 \n",
      "\n",
      "                pxl_pr: 0.332298402370412 \n",
      "\n",
      "                pxl_pro: 0.8841855716685713 \n",
      "\n",
      "            \n",
      "EPOCH: 15\n"
     ]
    },
    {
     "name": "stderr",
     "output_type": "stream",
     "text": [
      "100%|██████████| 146/146 [00:01<00:00, 144.31it/s]\n",
      "Eval: 100%|██████████| 70/70 [00:00<00:00, 118.19it/s]\n"
     ]
    },
    {
     "name": "stdout",
     "output_type": "stream",
     "text": [
      "End training performances:\n",
      "\n",
      "                img_roc: 0.9095816464237516 \n",
      "\n",
      "                pxl_roc: 0.7686903530486278 \n",
      "\n",
      "                f1_img: 0.925764192139738 \n",
      "\n",
      "                f1_pxl: 0.40660970107488414 \n",
      "\n",
      "                img_pr: 0.9754220039983066 \n",
      "\n",
      "                pxl_pr: 0.30554281946222295 \n",
      "\n",
      "                pxl_pro: 0.8698662266556141 \n",
      "\n",
      "            \n",
      "EPOCH: 16\n"
     ]
    },
    {
     "name": "stderr",
     "output_type": "stream",
     "text": [
      "100%|██████████| 146/146 [00:01<00:00, 142.97it/s]\n",
      "Eval: 100%|██████████| 70/70 [00:00<00:00, 116.66it/s]\n"
     ]
    },
    {
     "name": "stdout",
     "output_type": "stream",
     "text": [
      "End training performances:\n",
      "\n",
      "                img_roc: 0.9112685560053981 \n",
      "\n",
      "                pxl_roc: 0.8023838627676622 \n",
      "\n",
      "                f1_img: 0.9308755760368664 \n",
      "\n",
      "                f1_pxl: 0.4485429161323822 \n",
      "\n",
      "                img_pr: 0.9761305312359652 \n",
      "\n",
      "                pxl_pr: 0.35006435046971224 \n",
      "\n",
      "                pxl_pro: 0.886449259365765 \n",
      "\n",
      "            \n",
      "EPOCH: 17\n"
     ]
    },
    {
     "name": "stderr",
     "output_type": "stream",
     "text": [
      "100%|██████████| 146/146 [00:01<00:00, 141.97it/s]\n",
      "Eval: 100%|██████████| 70/70 [00:00<00:00, 119.05it/s]\n"
     ]
    },
    {
     "name": "stdout",
     "output_type": "stream",
     "text": [
      "End training performances:\n",
      "\n",
      "                img_roc: 0.905195681511471 \n",
      "\n",
      "                pxl_roc: 0.7804647944737012 \n",
      "\n",
      "                f1_img: 0.927038626609442 \n",
      "\n",
      "                f1_pxl: 0.42803874990450763 \n",
      "\n",
      "                img_pr: 0.9744627052683656 \n",
      "\n",
      "                pxl_pr: 0.32582975841414574 \n",
      "\n",
      "                pxl_pro: 0.8885517832298445 \n",
      "\n",
      "            \n",
      "EPOCH: 18\n"
     ]
    },
    {
     "name": "stderr",
     "output_type": "stream",
     "text": [
      "100%|██████████| 146/146 [00:00<00:00, 148.30it/s]\n",
      "Eval: 100%|██████████| 70/70 [00:00<00:00, 115.42it/s]\n"
     ]
    },
    {
     "name": "stdout",
     "output_type": "stream",
     "text": [
      "End training performances:\n",
      "\n",
      "                img_roc: 0.9024966261808367 \n",
      "\n",
      "                pxl_roc: 0.7832410335237745 \n",
      "\n",
      "                f1_img: 0.9243697478991597 \n",
      "\n",
      "                f1_pxl: 0.4290093210035737 \n",
      "\n",
      "                img_pr: 0.9735216166915985 \n",
      "\n",
      "                pxl_pr: 0.3259127888537502 \n",
      "\n",
      "                pxl_pro: 0.885599224031828 \n",
      "\n",
      "            \n",
      "EPOCH: 19\n"
     ]
    },
    {
     "name": "stderr",
     "output_type": "stream",
     "text": [
      "100%|██████████| 146/146 [00:01<00:00, 140.67it/s]\n",
      "Eval: 100%|██████████| 70/70 [00:00<00:00, 115.03it/s]\n"
     ]
    },
    {
     "name": "stdout",
     "output_type": "stream",
     "text": [
      "End training performances:\n",
      "\n",
      "                img_roc: 0.8997975708502024 \n",
      "\n",
      "                pxl_roc: 0.7663926592152114 \n",
      "\n",
      "                f1_img: 0.927659574468085 \n",
      "\n",
      "                f1_pxl: 0.4111264350678396 \n",
      "\n",
      "                img_pr: 0.9725830053723654 \n",
      "\n",
      "                pxl_pr: 0.30491780741508784 \n",
      "\n",
      "                pxl_pro: 0.864931016091983 \n",
      "\n",
      "            \n",
      "EPOCH: 20\n"
     ]
    },
    {
     "name": "stderr",
     "output_type": "stream",
     "text": [
      "100%|██████████| 146/146 [00:01<00:00, 144.08it/s]\n",
      "Eval: 100%|██████████| 70/70 [00:00<00:00, 119.87it/s]\n"
     ]
    },
    {
     "name": "stdout",
     "output_type": "stream",
     "text": [
      "End training performances:\n",
      "\n",
      "                img_roc: 0.9102564102564102 \n",
      "\n",
      "                pxl_roc: 0.7764471416100424 \n",
      "\n",
      "                f1_img: 0.9327731092436974 \n",
      "\n",
      "                f1_pxl: 0.41986281482960963 \n",
      "\n",
      "                img_pr: 0.9754784191761345 \n",
      "\n",
      "                pxl_pr: 0.31388502568331234 \n",
      "\n",
      "                pxl_pro: 0.8585866729710409 \n",
      "\n",
      "            \n",
      "EPOCH: 21\n"
     ]
    },
    {
     "name": "stderr",
     "output_type": "stream",
     "text": [
      "100%|██████████| 146/146 [00:00<00:00, 147.53it/s]\n",
      "Eval: 100%|██████████| 70/70 [00:00<00:00, 120.40it/s]\n"
     ]
    },
    {
     "name": "stdout",
     "output_type": "stream",
     "text": [
      "End training performances:\n",
      "\n",
      "                img_roc: 0.9014844804318488 \n",
      "\n",
      "                pxl_roc: 0.766190477612898 \n",
      "\n",
      "                f1_img: 0.9264069264069265 \n",
      "\n",
      "                f1_pxl: 0.4181544370400246 \n",
      "\n",
      "                img_pr: 0.973913298667491 \n",
      "\n",
      "                pxl_pr: 0.3141327008141704 \n",
      "\n",
      "                pxl_pro: 0.8703064050359648 \n",
      "\n",
      "            \n",
      "EPOCH: 22\n"
     ]
    },
    {
     "name": "stderr",
     "output_type": "stream",
     "text": [
      "100%|██████████| 146/146 [00:01<00:00, 138.28it/s]\n",
      "Eval: 100%|██████████| 70/70 [00:00<00:00, 118.65it/s]\n"
     ]
    },
    {
     "name": "stdout",
     "output_type": "stream",
     "text": [
      "End training performances:\n",
      "\n",
      "                img_roc: 0.8987854251012145 \n",
      "\n",
      "                pxl_roc: 0.7723238182966314 \n",
      "\n",
      "                f1_img: 0.927659574468085 \n",
      "\n",
      "                f1_pxl: 0.42366055643435374 \n",
      "\n",
      "                img_pr: 0.9726020465947736 \n",
      "\n",
      "                pxl_pr: 0.3210855097388622 \n",
      "\n",
      "                pxl_pro: 0.8636220202567872 \n",
      "\n",
      "            \n",
      "EPOCH: 23\n"
     ]
    },
    {
     "name": "stderr",
     "output_type": "stream",
     "text": [
      "100%|██████████| 146/146 [00:00<00:00, 148.00it/s]\n",
      "Eval: 100%|██████████| 70/70 [00:00<00:00, 117.22it/s]\n"
     ]
    },
    {
     "name": "stdout",
     "output_type": "stream",
     "text": [
      "End training performances:\n",
      "\n",
      "                img_roc: 0.8984480431848854 \n",
      "\n",
      "                pxl_roc: 0.7455012008337996 \n",
      "\n",
      "                f1_img: 0.9327731092436974 \n",
      "\n",
      "                f1_pxl: 0.3989507859511237 \n",
      "\n",
      "                img_pr: 0.9729922113427789 \n",
      "\n",
      "                pxl_pr: 0.2884557180224921 \n",
      "\n",
      "                pxl_pro: 0.8531538110184681 \n",
      "\n",
      "            \n",
      "EPOCH: 24\n"
     ]
    },
    {
     "name": "stderr",
     "output_type": "stream",
     "text": [
      "100%|██████████| 146/146 [00:00<00:00, 150.69it/s]\n",
      "Eval: 100%|██████████| 70/70 [00:00<00:00, 118.35it/s]\n"
     ]
    },
    {
     "name": "stdout",
     "output_type": "stream",
     "text": [
      "End training performances:\n",
      "\n",
      "                img_roc: 0.9035087719298245 \n",
      "\n",
      "                pxl_roc: 0.7535644788162589 \n",
      "\n",
      "                f1_img: 0.927659574468085 \n",
      "\n",
      "                f1_pxl: 0.4078228754756398 \n",
      "\n",
      "                img_pr: 0.9746362437101432 \n",
      "\n",
      "                pxl_pr: 0.3010887339530939 \n",
      "\n",
      "                pxl_pro: 0.8644292794884223 \n",
      "\n",
      "            \n",
      "EPOCH: 25\n"
     ]
    },
    {
     "name": "stderr",
     "output_type": "stream",
     "text": [
      "100%|██████████| 146/146 [00:00<00:00, 149.84it/s]\n",
      "Eval: 100%|██████████| 70/70 [00:00<00:00, 116.83it/s]\n"
     ]
    },
    {
     "name": "stdout",
     "output_type": "stream",
     "text": [
      "End training performances:\n",
      "\n",
      "                img_roc: 0.9011470985155197 \n",
      "\n",
      "                pxl_roc: 0.7617887761249288 \n",
      "\n",
      "                f1_img: 0.9288702928870293 \n",
      "\n",
      "                f1_pxl: 0.42142418775920104 \n",
      "\n",
      "                img_pr: 0.9736288405016162 \n",
      "\n",
      "                pxl_pr: 0.3152222723135511 \n",
      "\n",
      "                pxl_pro: 0.8776887037187723 \n",
      "\n",
      "            \n",
      "EPOCH: 26\n"
     ]
    },
    {
     "name": "stderr",
     "output_type": "stream",
     "text": [
      "100%|██████████| 146/146 [00:01<00:00, 145.32it/s]\n",
      "Eval: 100%|██████████| 70/70 [00:00<00:00, 119.25it/s]\n"
     ]
    },
    {
     "name": "stdout",
     "output_type": "stream",
     "text": [
      "End training performances:\n",
      "\n",
      "                img_roc: 0.8940620782726046 \n",
      "\n",
      "                pxl_roc: 0.7552108845611177 \n",
      "\n",
      "                f1_img: 0.9184549356223176 \n",
      "\n",
      "                f1_pxl: 0.4063014076367077 \n",
      "\n",
      "                img_pr: 0.9723276039169183 \n",
      "\n",
      "                pxl_pr: 0.30029135954676817 \n",
      "\n",
      "                pxl_pro: 0.8700791873018758 \n",
      "\n",
      "            \n",
      "EPOCH: 27\n"
     ]
    },
    {
     "name": "stderr",
     "output_type": "stream",
     "text": [
      "100%|██████████| 146/146 [00:01<00:00, 137.59it/s]\n",
      "Eval: 100%|██████████| 70/70 [00:00<00:00, 117.19it/s]\n"
     ]
    },
    {
     "name": "stdout",
     "output_type": "stream",
     "text": [
      "End training performances:\n",
      "\n",
      "                img_roc: 0.904 \n",
      "\n",
      "                pxl_roc: 0.7546121265297959 \n",
      "\n",
      "                f1_img: 0.9272727272727274 \n",
      "\n",
      "                f1_pxl: 0.414754372082556 \n",
      "\n",
      "                img_pr: 0.9758253061179338 \n",
      "\n",
      "                pxl_pr: 0.3103710504877456 \n",
      "\n",
      "                pxl_pro: 0.8706959889339523 \n",
      "\n",
      "            \n",
      "EPOCH: 28\n"
     ]
    },
    {
     "name": "stderr",
     "output_type": "stream",
     "text": [
      "100%|██████████| 146/146 [00:00<00:00, 157.25it/s]\n",
      "Eval: 100%|██████████| 70/70 [00:00<00:00, 118.39it/s]\n"
     ]
    },
    {
     "name": "stdout",
     "output_type": "stream",
     "text": [
      "End training performances:\n",
      "\n",
      "                img_roc: 0.8987826086956522 \n",
      "\n",
      "                pxl_roc: 0.7508383593007686 \n",
      "\n",
      "                f1_img: 0.9279279279279279 \n",
      "\n",
      "                f1_pxl: 0.4158900395156713 \n",
      "\n",
      "                img_pr: 0.974352774117018 \n",
      "\n",
      "                pxl_pr: 0.30776930052970913 \n",
      "\n",
      "                pxl_pro: 0.8757543609460027 \n",
      "\n",
      "            \n",
      "EPOCH: 29\n"
     ]
    },
    {
     "name": "stderr",
     "output_type": "stream",
     "text": [
      "100%|██████████| 146/146 [00:00<00:00, 151.61it/s]\n",
      "Eval: 100%|██████████| 70/70 [00:00<00:00, 114.81it/s]\n"
     ]
    },
    {
     "name": "stdout",
     "output_type": "stream",
     "text": [
      "End training performances:\n",
      "\n",
      "                img_roc: 0.9038461538461539 \n",
      "\n",
      "                pxl_roc: 0.7537053499211684 \n",
      "\n",
      "                f1_img: 0.927659574468085 \n",
      "\n",
      "                f1_pxl: 0.41133274328038383 \n",
      "\n",
      "                img_pr: 0.9744709583599827 \n",
      "\n",
      "                pxl_pr: 0.305470768720812 \n",
      "\n",
      "                pxl_pro: 0.8786774965278318 \n",
      "\n",
      "            \n",
      "EPOCH: 30\n"
     ]
    },
    {
     "name": "stderr",
     "output_type": "stream",
     "text": [
      "100%|██████████| 146/146 [00:01<00:00, 138.73it/s]\n",
      "Eval: 100%|██████████| 70/70 [00:00<00:00, 119.38it/s]\n"
     ]
    }
   ],
   "execution_count": null
  }
 ],
 "metadata": {
  "kernelspec": {
   "display_name": "Python 3",
   "language": "python",
   "name": "python3"
  },
  "language_info": {
   "codemirror_mode": {
    "name": "ipython",
    "version": 2
   },
   "file_extension": ".py",
   "mimetype": "text/x-python",
   "name": "python",
   "nbconvert_exporter": "python",
   "pygments_lexer": "ipython2",
   "version": "2.7.6"
  }
 },
 "nbformat": 4,
 "nbformat_minor": 5
}
